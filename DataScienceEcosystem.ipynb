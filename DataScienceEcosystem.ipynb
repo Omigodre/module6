{
 "cells": [
  {
   "cell_type": "markdown",
   "id": "8c960b5b-8c55-4ae7-bc84-3b970a662864",
   "metadata": {},
   "source": [
    "<h1>Data Science Tools and Ecosystem<h1></h1>"
   ]
  },
  {
   "cell_type": "markdown",
   "id": "151d74f9-cf40-46a7-a328-ae95d0fe0a81",
   "metadata": {},
   "source": [
    "In this notebook, Data Science Tools and Ecosystems are summarized"
   ]
  },
  {
   "cell_type": "markdown",
   "id": "e4e1b853-d9c7-47f9-86fd-ef52b52b5183",
   "metadata": {},
   "source": [
    "**Objectives:**\n",
    "- popular languages in Data Science\n",
    "- commonly used libraries in Data Science\n",
    "- arithmetic problems\n",
    "- comments"
   ]
  },
  {
   "cell_type": "markdown",
   "id": "50f01b74-bdca-493f-8201-3a3e9293da7e",
   "metadata": {},
   "source": [
    "Some of the popular languages that Data Scientists use are:\n",
    "1. Python\n",
    "2. R\n",
    "3. SQL\n",
    "4. Java\n",
    "5. Julia\n",
    "6. C\n",
    "7. C++\n",
    "8. JavaScript\n",
    "9. Scala"
   ]
  },
  {
   "cell_type": "markdown",
   "id": "e8ff6fec-9b73-4c7a-9a0c-2148a3aa2289",
   "metadata": {},
   "source": [
    "Some of the commonly used libraries used by Data Scientists include:\n",
    "1. numpy\n",
    "2. pandas\n",
    "3. matplotlib\n",
    "4. Scikit-learn\n",
    "5. Tensorflow"
   ]
  },
  {
   "attachments": {},
   "cell_type": "markdown",
   "id": "109ba75e-a6be-43cd-a045-add09ef50ab5",
   "metadata": {},
   "source": [
    "|Data Science Tools|\n",
    "|------------------|\n",
    "|Git|\n",
    "|Visual Studio Code|\n",
    "|Gitlab|"
   ]
  },
  {
   "cell_type": "markdown",
   "id": "d2a00a8c-8c36-4371-8f3a-82709dcf005e",
   "metadata": {},
   "source": [
    "<h3>Below are a few examples of evaluating arithmetic expressions in Python</h3>"
   ]
  },
  {
   "cell_type": "code",
   "execution_count": 8,
   "id": "1517ffa6-df1a-4792-9afa-c3f6ef4f0382",
   "metadata": {},
   "outputs": [
    {
     "name": "stdout",
     "output_type": "stream",
     "text": [
      "17\n"
     ]
    }
   ],
   "source": [
    "# This a simple arithmetic expression to mutiply then add integers\n",
    "print((3*4)+5)"
   ]
  },
  {
   "cell_type": "code",
   "execution_count": 9,
   "id": "5bd9b492-2e81-48d2-b881-0fcb28152cee",
   "metadata": {},
   "outputs": [
    {
     "name": "stdout",
     "output_type": "stream",
     "text": [
      "3.3333333333333335\n"
     ]
    }
   ],
   "source": [
    "#This will convert 200 minutes to hours by diving by 60\n",
    "m = 200 #time in minutes\n",
    "h = m/60 #converting minutes to hours\n",
    "print(h)"
   ]
  },
  {
   "cell_type": "markdown",
   "id": "d407a98d-3ca4-43f1-a077-671d01256148",
   "metadata": {},
   "source": [
    "<h2>Author</h2>\n",
    "Subhransu Chaudhuri"
   ]
  },
  {
   "cell_type": "code",
   "execution_count": null,
   "id": "ecf14831-4330-48f9-a9ea-2614a68461c0",
   "metadata": {},
   "outputs": [],
   "source": []
  }
 ],
 "metadata": {
  "kernelspec": {
   "display_name": "Python 3 (ipykernel)",
   "language": "python",
   "name": "python3"
  },
  "language_info": {
   "codemirror_mode": {
    "name": "ipython",
    "version": 3
   },
   "file_extension": ".py",
   "mimetype": "text/x-python",
   "name": "python",
   "nbconvert_exporter": "python",
   "pygments_lexer": "ipython3",
   "version": "3.12.7"
  }
 },
 "nbformat": 4,
 "nbformat_minor": 5
}
